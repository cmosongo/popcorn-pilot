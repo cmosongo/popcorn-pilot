{
 "cells": [
  {
   "cell_type": "code",
   "execution_count": 1,
   "id": "elder-composition",
   "metadata": {},
   "outputs": [],
   "source": [
    "#general libs\n",
    "import os\n",
    "import time\n",
    "\n",
    "#computing libs\n",
    "import numpy as np\n",
    "import pandas as pd\n",
    "\n",
    "#ml model libs\n",
    "from sklearn.metrics.pairwise import cosine_similarity\n",
    "from sklearn.impute import SimpleImputer\n",
    "\n",
    "\n",
    "# plotting libs\n",
    "import matplotlib.pyplot as plt\n",
    "import seaborn as sns"
   ]
  },
  {
   "cell_type": "code",
   "execution_count": 2,
   "id": "welsh-printer",
   "metadata": {},
   "outputs": [],
   "source": [
    "# load data\n",
    "file_path = \"../data/raw/data.txt\"\n",
    "\n",
    "data = pd.read_csv(file_path,\n",
    "                  sep=\",\")\n"
   ]
  },
  {
   "cell_type": "markdown",
   "id": "tight-prerequisite",
   "metadata": {},
   "source": [
    "## Data Cleaning"
   ]
  },
  {
   "cell_type": "code",
   "execution_count": 3,
   "id": "pacific-episode",
   "metadata": {},
   "outputs": [
    {
     "name": "stdout",
     "output_type": "stream",
     "text": [
      "<class 'pandas.core.frame.DataFrame'>\n",
      "RangeIndex: 58 entries, 0 to 57\n",
      "Data columns (total 3 columns):\n",
      " #   Column  Non-Null Count  Dtype \n",
      "---  ------  --------------  ----- \n",
      " 0   User    58 non-null     object\n",
      " 1   Movie   58 non-null     object\n",
      " 2   Rating  55 non-null     object\n",
      "dtypes: object(3)\n",
      "memory usage: 1.5+ KB\n"
     ]
    }
   ],
   "source": [
    "data.info()"
   ]
  },
  {
   "cell_type": "code",
   "execution_count": 4,
   "id": "blessed-aggregate",
   "metadata": {},
   "outputs": [
    {
     "data": {
      "text/plain": [
       "array(['Alice', 'Frank', 'Bob', 'Carol', 'Dave', 'Emily', 'Quincy',\n",
       "       'Paul', 'Ivy', 'Karen', 'Leo', 'Mia', 'Nina', 'Oscar', 'Sarah',\n",
       "       'Tom', 'Victor', 'Wendy', 'Zane', 'Uma', 'Xander', 'Yara'],\n",
       "      dtype=object)"
      ]
     },
     "execution_count": 4,
     "metadata": {},
     "output_type": "execute_result"
    }
   ],
   "source": [
    "#Users\n",
    "data['User'].unique()"
   ]
  },
  {
   "cell_type": "code",
   "execution_count": 5,
   "id": "graphic-cyprus",
   "metadata": {},
   "outputs": [],
   "source": [
    "data['User'] = data['User'].str.upper()"
   ]
  },
  {
   "cell_type": "code",
   "execution_count": 6,
   "id": "behavioral-glory",
   "metadata": {},
   "outputs": [
    {
     "data": {
      "text/plain": [
       "array(['Star Wars', 'The Godfather', 'Titanic', 'The Matrix', 'Inception',\n",
       "       'Pulp Fiction', 'Forrest Gump', 'Matrix'], dtype=object)"
      ]
     },
     "execution_count": 6,
     "metadata": {},
     "output_type": "execute_result"
    }
   ],
   "source": [
    "#Movies\n",
    "data['Movie'].unique()"
   ]
  },
  {
   "cell_type": "code",
   "execution_count": 7,
   "id": "concerned-findings",
   "metadata": {},
   "outputs": [
    {
     "data": {
      "text/html": [
       "<div>\n",
       "<style scoped>\n",
       "    .dataframe tbody tr th:only-of-type {\n",
       "        vertical-align: middle;\n",
       "    }\n",
       "\n",
       "    .dataframe tbody tr th {\n",
       "        vertical-align: top;\n",
       "    }\n",
       "\n",
       "    .dataframe thead th {\n",
       "        text-align: right;\n",
       "    }\n",
       "</style>\n",
       "<table border=\"1\" class=\"dataframe\">\n",
       "  <thead>\n",
       "    <tr style=\"text-align: right;\">\n",
       "      <th></th>\n",
       "      <th>User</th>\n",
       "      <th>Movie</th>\n",
       "      <th>Rating</th>\n",
       "    </tr>\n",
       "  </thead>\n",
       "  <tbody>\n",
       "    <tr>\n",
       "      <th>45</th>\n",
       "      <td>VICTOR</td>\n",
       "      <td>Matrix</td>\n",
       "      <td>x</td>\n",
       "    </tr>\n",
       "  </tbody>\n",
       "</table>\n",
       "</div>"
      ],
      "text/plain": [
       "      User   Movie Rating\n",
       "45  VICTOR  Matrix      x"
      ]
     },
     "execution_count": 7,
     "metadata": {},
     "output_type": "execute_result"
    }
   ],
   "source": [
    "data[data['Movie'] == 'Matrix']"
   ]
  },
  {
   "cell_type": "markdown",
   "id": "relevant-grave",
   "metadata": {},
   "source": [
    "'The matrix' and 'matrix' seem to be the same movie and there only seems to be one entry of 'matrix'"
   ]
  },
  {
   "cell_type": "code",
   "execution_count": 8,
   "id": "circular-liabilities",
   "metadata": {},
   "outputs": [],
   "source": [
    "data['Movie'].replace('Matrix', 'The Matrix', inplace = True)"
   ]
  },
  {
   "cell_type": "code",
   "execution_count": 9,
   "id": "national-filter",
   "metadata": {},
   "outputs": [],
   "source": [
    "#Ratings\n",
    "x = pd.to_numeric(data['Rating'], errors='coerce')\n",
    "nan_idx = x[x.isna()].index"
   ]
  },
  {
   "cell_type": "code",
   "execution_count": 10,
   "id": "spread-knowing",
   "metadata": {
    "scrolled": true
   },
   "outputs": [],
   "source": [
    "data['Rating'] = pd.to_numeric(data['Rating'], errors='coerce')"
   ]
  },
  {
   "cell_type": "code",
   "execution_count": 11,
   "id": "settled-rogers",
   "metadata": {},
   "outputs": [],
   "source": [
    "# Data cleaning\n",
    "data = data.drop_duplicates()\n",
    "data['Rating'] = pd.to_numeric(data['Rating'], errors='coerce')\n",
    "#data = data.dropna(subset=['User', 'Movie', 'Rating'])"
   ]
  },
  {
   "cell_type": "code",
   "execution_count": 12,
   "id": "prospective-timing",
   "metadata": {},
   "outputs": [],
   "source": [
    "# Handle irregular or incomplete data\n",
    "imputer = SimpleImputer(strategy='median')\n",
    "data['Rating'] = imputer.fit_transform(data['Rating'].values.reshape(-1, 1))"
   ]
  },
  {
   "cell_type": "code",
   "execution_count": 13,
   "id": "unusual-freight",
   "metadata": {},
   "outputs": [
    {
     "data": {
      "text/plain": [
       "User      False\n",
       "Movie     False\n",
       "Rating    False\n",
       "dtype: bool"
      ]
     },
     "execution_count": 13,
     "metadata": {},
     "output_type": "execute_result"
    }
   ],
   "source": [
    "# check for nan\n",
    "data.isna().any()"
   ]
  },
  {
   "cell_type": "code",
   "execution_count": 14,
   "id": "outer-lithuania",
   "metadata": {},
   "outputs": [],
   "source": [
    "# save data for use in algorithm\n",
    "path = '../data/internal/data.csv'\n",
    "data.to_csv(path)"
   ]
  },
  {
   "cell_type": "markdown",
   "id": "banner-guest",
   "metadata": {},
   "source": [
    "## Data Analysis"
   ]
  },
  {
   "cell_type": "code",
   "execution_count": 23,
   "id": "quick-mixer",
   "metadata": {},
   "outputs": [
    {
     "data": {
      "text/plain": [
       "['Star Wars',\n",
       " 'The Godfather',\n",
       " 'Titanic',\n",
       " 'The Matrix',\n",
       " 'Inception',\n",
       " 'Pulp Fiction',\n",
       " 'Forrest Gump']"
      ]
     },
     "execution_count": 23,
     "metadata": {},
     "output_type": "execute_result"
    }
   ],
   "source": [
    "# list of movies\n",
    "movies = data['Movie'].unique()\n",
    "list(movies)"
   ]
  },
  {
   "cell_type": "code",
   "execution_count": 15,
   "id": "subtle-netscape",
   "metadata": {},
   "outputs": [
    {
     "data": {
      "image/png": "[encoded data removed]",
      "text/plain": [
       "<Figure size 1080x576 with 1 Axes>"
      ]
     },
     "metadata": {
      "needs_background": "light"
     },
     "output_type": "display_data"
    }
   ],
   "source": [
    "# Movies and there frequency\n",
    "plt.figure(figsize=(15,8))\n",
    "sns.histplot(data['Movie'],\n",
    "            stat=\"frequency\",);"
   ]
  },
  {
   "cell_type": "code",
   "execution_count": 16,
   "id": "colored-hughes",
   "metadata": {},
   "outputs": [],
   "source": [
    "# Calculate average rating for each movie\n",
    "median_ratings = data.groupby('Movie')['Rating'].median().reset_index()\n",
    "average_ratings = data.groupby('Movie')['Rating'].mean().reset_index()"
   ]
  },
  {
   "cell_type": "markdown",
   "id": "tutorial-content",
   "metadata": {},
   "source": [
    "average rating for each movie"
   ]
  },
  {
   "cell_type": "code",
   "execution_count": 18,
   "id": "egyptian-patrick",
   "metadata": {},
   "outputs": [
    {
     "data": {
      "text/html": [
       "<div>\n",
       "<style scoped>\n",
       "    .dataframe tbody tr th:only-of-type {\n",
       "        vertical-align: middle;\n",
       "    }\n",
       "\n",
       "    .dataframe tbody tr th {\n",
       "        vertical-align: top;\n",
       "    }\n",
       "\n",
       "    .dataframe thead th {\n",
       "        text-align: right;\n",
       "    }\n",
       "</style>\n",
       "<table border=\"1\" class=\"dataframe\">\n",
       "  <thead>\n",
       "    <tr style=\"text-align: right;\">\n",
       "      <th></th>\n",
       "      <th>Movie</th>\n",
       "      <th>Rating</th>\n",
       "    </tr>\n",
       "  </thead>\n",
       "  <tbody>\n",
       "    <tr>\n",
       "      <th>0</th>\n",
       "      <td>Forrest Gump</td>\n",
       "      <td>3.944444</td>\n",
       "    </tr>\n",
       "    <tr>\n",
       "      <th>1</th>\n",
       "      <td>Inception</td>\n",
       "      <td>3.272727</td>\n",
       "    </tr>\n",
       "    <tr>\n",
       "      <th>2</th>\n",
       "      <td>Pulp Fiction</td>\n",
       "      <td>3.687500</td>\n",
       "    </tr>\n",
       "    <tr>\n",
       "      <th>3</th>\n",
       "      <td>Star Wars</td>\n",
       "      <td>4.333333</td>\n",
       "    </tr>\n",
       "    <tr>\n",
       "      <th>4</th>\n",
       "      <td>The Godfather</td>\n",
       "      <td>4.428571</td>\n",
       "    </tr>\n",
       "    <tr>\n",
       "      <th>5</th>\n",
       "      <td>The Matrix</td>\n",
       "      <td>3.722222</td>\n",
       "    </tr>\n",
       "    <tr>\n",
       "      <th>6</th>\n",
       "      <td>Titanic</td>\n",
       "      <td>4.400000</td>\n",
       "    </tr>\n",
       "  </tbody>\n",
       "</table>\n",
       "</div>"
      ],
      "text/plain": [
       "           Movie    Rating\n",
       "0   Forrest Gump  3.944444\n",
       "1      Inception  3.272727\n",
       "2   Pulp Fiction  3.687500\n",
       "3      Star Wars  4.333333\n",
       "4  The Godfather  4.428571\n",
       "5     The Matrix  3.722222\n",
       "6        Titanic  4.400000"
      ]
     },
     "execution_count": 18,
     "metadata": {},
     "output_type": "execute_result"
    }
   ],
   "source": [
    "average_ratings"
   ]
  },
  {
   "cell_type": "markdown",
   "id": "distinguished-folks",
   "metadata": {},
   "source": [
    "## Algorithm"
   ]
  },
  {
   "cell_type": "code",
   "execution_count": 19,
   "id": "nervous-marsh",
   "metadata": {},
   "outputs": [
    {
     "data": {
      "text/html": [
       "<div>\n",
       "<style scoped>\n",
       "    .dataframe tbody tr th:only-of-type {\n",
       "        vertical-align: middle;\n",
       "    }\n",
       "\n",
       "    .dataframe tbody tr th {\n",
       "        vertical-align: top;\n",
       "    }\n",
       "\n",
       "    .dataframe thead th {\n",
       "        text-align: right;\n",
       "    }\n",
       "</style>\n",
       "<table border=\"1\" class=\"dataframe\">\n",
       "  <thead>\n",
       "    <tr style=\"text-align: right;\">\n",
       "      <th>Movie</th>\n",
       "      <th>Forrest Gump</th>\n",
       "      <th>Inception</th>\n",
       "      <th>Pulp Fiction</th>\n",
       "      <th>Star Wars</th>\n",
       "      <th>The Godfather</th>\n",
       "      <th>The Matrix</th>\n",
       "      <th>Titanic</th>\n",
       "    </tr>\n",
       "    <tr>\n",
       "      <th>User</th>\n",
       "      <th></th>\n",
       "      <th></th>\n",
       "      <th></th>\n",
       "      <th></th>\n",
       "      <th></th>\n",
       "      <th></th>\n",
       "      <th></th>\n",
       "    </tr>\n",
       "  </thead>\n",
       "  <tbody>\n",
       "    <tr>\n",
       "      <th>ALICE</th>\n",
       "      <td>0.0</td>\n",
       "      <td>3</td>\n",
       "      <td>0.0</td>\n",
       "      <td>5</td>\n",
       "      <td>0</td>\n",
       "      <td>4.0</td>\n",
       "      <td>0</td>\n",
       "    </tr>\n",
       "    <tr>\n",
       "      <th>BOB</th>\n",
       "      <td>0.0</td>\n",
       "      <td>0</td>\n",
       "      <td>0.0</td>\n",
       "      <td>2</td>\n",
       "      <td>4</td>\n",
       "      <td>0.0</td>\n",
       "      <td>5</td>\n",
       "    </tr>\n",
       "    <tr>\n",
       "      <th>CAROL</th>\n",
       "      <td>0.0</td>\n",
       "      <td>5</td>\n",
       "      <td>4.0</td>\n",
       "      <td>0</td>\n",
       "      <td>0</td>\n",
       "      <td>3.0</td>\n",
       "      <td>0</td>\n",
       "    </tr>\n",
       "    <tr>\n",
       "      <th>DAVE</th>\n",
       "      <td>5.0</td>\n",
       "      <td>2</td>\n",
       "      <td>0.0</td>\n",
       "      <td>0</td>\n",
       "      <td>0</td>\n",
       "      <td>0.0</td>\n",
       "      <td>4</td>\n",
       "    </tr>\n",
       "    <tr>\n",
       "      <th>EMILY</th>\n",
       "      <td>3.0</td>\n",
       "      <td>0</td>\n",
       "      <td>4.0</td>\n",
       "      <td>0</td>\n",
       "      <td>5</td>\n",
       "      <td>0.0</td>\n",
       "      <td>0</td>\n",
       "    </tr>\n",
       "    <tr>\n",
       "      <th>FRANK</th>\n",
       "      <td>3.0</td>\n",
       "      <td>0</td>\n",
       "      <td>0.0</td>\n",
       "      <td>5</td>\n",
       "      <td>4</td>\n",
       "      <td>0.0</td>\n",
       "      <td>0</td>\n",
       "    </tr>\n",
       "    <tr>\n",
       "      <th>IVY</th>\n",
       "      <td>0.0</td>\n",
       "      <td>3</td>\n",
       "      <td>0.0</td>\n",
       "      <td>5</td>\n",
       "      <td>0</td>\n",
       "      <td>4.0</td>\n",
       "      <td>0</td>\n",
       "    </tr>\n",
       "    <tr>\n",
       "      <th>KAREN</th>\n",
       "      <td>0.0</td>\n",
       "      <td>5</td>\n",
       "      <td>4.0</td>\n",
       "      <td>0</td>\n",
       "      <td>0</td>\n",
       "      <td>3.0</td>\n",
       "      <td>0</td>\n",
       "    </tr>\n",
       "    <tr>\n",
       "      <th>LEO</th>\n",
       "      <td>5.0</td>\n",
       "      <td>2</td>\n",
       "      <td>0.0</td>\n",
       "      <td>0</td>\n",
       "      <td>0</td>\n",
       "      <td>0.0</td>\n",
       "      <td>4</td>\n",
       "    </tr>\n",
       "    <tr>\n",
       "      <th>MIA</th>\n",
       "      <td>3.0</td>\n",
       "      <td>0</td>\n",
       "      <td>4.0</td>\n",
       "      <td>0</td>\n",
       "      <td>5</td>\n",
       "      <td>0.0</td>\n",
       "      <td>0</td>\n",
       "    </tr>\n",
       "    <tr>\n",
       "      <th>NINA</th>\n",
       "      <td>3.0</td>\n",
       "      <td>0</td>\n",
       "      <td>0.0</td>\n",
       "      <td>5</td>\n",
       "      <td>4</td>\n",
       "      <td>0.0</td>\n",
       "      <td>0</td>\n",
       "    </tr>\n",
       "    <tr>\n",
       "      <th>OSCAR</th>\n",
       "      <td>5.0</td>\n",
       "      <td>0</td>\n",
       "      <td>2.0</td>\n",
       "      <td>0</td>\n",
       "      <td>0</td>\n",
       "      <td>4.0</td>\n",
       "      <td>0</td>\n",
       "    </tr>\n",
       "    <tr>\n",
       "      <th>PAUL</th>\n",
       "      <td>0.0</td>\n",
       "      <td>1</td>\n",
       "      <td>0.0</td>\n",
       "      <td>0</td>\n",
       "      <td>5</td>\n",
       "      <td>0.0</td>\n",
       "      <td>4</td>\n",
       "    </tr>\n",
       "    <tr>\n",
       "      <th>QUINCY</th>\n",
       "      <td>0.0</td>\n",
       "      <td>3</td>\n",
       "      <td>0.0</td>\n",
       "      <td>5</td>\n",
       "      <td>0</td>\n",
       "      <td>4.0</td>\n",
       "      <td>0</td>\n",
       "    </tr>\n",
       "    <tr>\n",
       "      <th>SARAH</th>\n",
       "      <td>0.0</td>\n",
       "      <td>4</td>\n",
       "      <td>0.0</td>\n",
       "      <td>4</td>\n",
       "      <td>0</td>\n",
       "      <td>0.0</td>\n",
       "      <td>0</td>\n",
       "    </tr>\n",
       "    <tr>\n",
       "      <th>TOM</th>\n",
       "      <td>0.0</td>\n",
       "      <td>4</td>\n",
       "      <td>4.0</td>\n",
       "      <td>0</td>\n",
       "      <td>0</td>\n",
       "      <td>0.0</td>\n",
       "      <td>0</td>\n",
       "    </tr>\n",
       "    <tr>\n",
       "      <th>UMA</th>\n",
       "      <td>0.0</td>\n",
       "      <td>0</td>\n",
       "      <td>0.0</td>\n",
       "      <td>4</td>\n",
       "      <td>0</td>\n",
       "      <td>0.0</td>\n",
       "      <td>5</td>\n",
       "    </tr>\n",
       "    <tr>\n",
       "      <th>VICTOR</th>\n",
       "      <td>0.0</td>\n",
       "      <td>0</td>\n",
       "      <td>0.0</td>\n",
       "      <td>0</td>\n",
       "      <td>4</td>\n",
       "      <td>4.0</td>\n",
       "      <td>0</td>\n",
       "    </tr>\n",
       "    <tr>\n",
       "      <th>WENDY</th>\n",
       "      <td>0.0</td>\n",
       "      <td>0</td>\n",
       "      <td>4.0</td>\n",
       "      <td>0</td>\n",
       "      <td>0</td>\n",
       "      <td>3.5</td>\n",
       "      <td>0</td>\n",
       "    </tr>\n",
       "    <tr>\n",
       "      <th>XANDER</th>\n",
       "      <td>5.0</td>\n",
       "      <td>0</td>\n",
       "      <td>0.0</td>\n",
       "      <td>0</td>\n",
       "      <td>0</td>\n",
       "      <td>0.0</td>\n",
       "      <td>0</td>\n",
       "    </tr>\n",
       "    <tr>\n",
       "      <th>YARA</th>\n",
       "      <td>0.0</td>\n",
       "      <td>4</td>\n",
       "      <td>0.0</td>\n",
       "      <td>0</td>\n",
       "      <td>0</td>\n",
       "      <td>4.0</td>\n",
       "      <td>0</td>\n",
       "    </tr>\n",
       "    <tr>\n",
       "      <th>ZANE</th>\n",
       "      <td>3.5</td>\n",
       "      <td>0</td>\n",
       "      <td>3.5</td>\n",
       "      <td>4</td>\n",
       "      <td>0</td>\n",
       "      <td>0.0</td>\n",
       "      <td>0</td>\n",
       "    </tr>\n",
       "  </tbody>\n",
       "</table>\n",
       "</div>"
      ],
      "text/plain": [
       "Movie   Forrest Gump  Inception  Pulp Fiction  Star Wars  The Godfather  \\\n",
       "User                                                                      \n",
       "ALICE            0.0          3           0.0          5              0   \n",
       "BOB              0.0          0           0.0          2              4   \n",
       "CAROL            0.0          5           4.0          0              0   \n",
       "DAVE             5.0          2           0.0          0              0   \n",
       "EMILY            3.0          0           4.0          0              5   \n",
       "FRANK            3.0          0           0.0          5              4   \n",
       "IVY              0.0          3           0.0          5              0   \n",
       "KAREN            0.0          5           4.0          0              0   \n",
       "LEO              5.0          2           0.0          0              0   \n",
       "MIA              3.0          0           4.0          0              5   \n",
       "NINA             3.0          0           0.0          5              4   \n",
       "OSCAR            5.0          0           2.0          0              0   \n",
       "PAUL             0.0          1           0.0          0              5   \n",
       "QUINCY           0.0          3           0.0          5              0   \n",
       "SARAH            0.0          4           0.0          4              0   \n",
       "TOM              0.0          4           4.0          0              0   \n",
       "UMA              0.0          0           0.0          4              0   \n",
       "VICTOR           0.0          0           0.0          0              4   \n",
       "WENDY            0.0          0           4.0          0              0   \n",
       "XANDER           5.0          0           0.0          0              0   \n",
       "YARA             0.0          4           0.0          0              0   \n",
       "ZANE             3.5          0           3.5          4              0   \n",
       "\n",
       "Movie   The Matrix  Titanic  \n",
       "User                         \n",
       "ALICE          4.0        0  \n",
       "BOB            0.0        5  \n",
       "CAROL          3.0        0  \n",
       "DAVE           0.0        4  \n",
       "EMILY          0.0        0  \n",
       "FRANK          0.0        0  \n",
       "IVY            4.0        0  \n",
       "KAREN          3.0        0  \n",
       "LEO            0.0        4  \n",
       "MIA            0.0        0  \n",
       "NINA           0.0        0  \n",
       "OSCAR          4.0        0  \n",
       "PAUL           0.0        4  \n",
       "QUINCY         4.0        0  \n",
       "SARAH          0.0        0  \n",
       "TOM            0.0        0  \n",
       "UMA            0.0        5  \n",
       "VICTOR         4.0        0  \n",
       "WENDY          3.5        0  \n",
       "XANDER         0.0        0  \n",
       "YARA           4.0        0  \n",
       "ZANE           0.0        0  "
      ]
     },
     "execution_count": 19,
     "metadata": {},
     "output_type": "execute_result"
    }
   ],
   "source": [
    "# Collaborative Filtering Algorithm\n",
    "user_movie_matrix = data.pivot_table(index='User', columns='Movie', values='Rating', fill_value=0)\n",
    "user_movie_matrix"
   ]
  },
  {
   "cell_type": "code",
   "execution_count": 24,
   "id": "north-garage",
   "metadata": {},
   "outputs": [
    {
     "data": {
      "text/html": [
       "<div>\n",
       "<style scoped>\n",
       "    .dataframe tbody tr th:only-of-type {\n",
       "        vertical-align: middle;\n",
       "    }\n",
       "\n",
       "    .dataframe tbody tr th {\n",
       "        vertical-align: top;\n",
       "    }\n",
       "\n",
       "    .dataframe thead th {\n",
       "        text-align: right;\n",
       "    }\n",
       "</style>\n",
       "<table border=\"1\" class=\"dataframe\">\n",
       "  <thead>\n",
       "    <tr style=\"text-align: right;\">\n",
       "      <th></th>\n",
       "      <th>Star Wars</th>\n",
       "      <th>The Godfather</th>\n",
       "      <th>Titanic</th>\n",
       "      <th>The Matrix</th>\n",
       "      <th>Inception</th>\n",
       "      <th>Pulp Fiction</th>\n",
       "      <th>Forrest Gump</th>\n",
       "    </tr>\n",
       "  </thead>\n",
       "  <tbody>\n",
       "    <tr>\n",
       "      <th>Star Wars</th>\n",
       "      <td>1.000000</td>\n",
       "      <td>0.141899</td>\n",
       "      <td>0.358526</td>\n",
       "      <td>0.271624</td>\n",
       "      <td>0.376174</td>\n",
       "      <td>0.146190</td>\n",
       "      <td>0.331856</td>\n",
       "    </tr>\n",
       "    <tr>\n",
       "      <th>The Godfather</th>\n",
       "      <td>0.141899</td>\n",
       "      <td>1.000000</td>\n",
       "      <td>0.456607</td>\n",
       "      <td>0.396087</td>\n",
       "      <td>0.036636</td>\n",
       "      <td>0.630443</td>\n",
       "      <td>0.174528</td>\n",
       "    </tr>\n",
       "    <tr>\n",
       "      <th>Titanic</th>\n",
       "      <td>0.358526</td>\n",
       "      <td>0.456607</td>\n",
       "      <td>1.000000</td>\n",
       "      <td>0.099323</td>\n",
       "      <td>0.320228</td>\n",
       "      <td>0.386411</td>\n",
       "      <td>0.000000</td>\n",
       "    </tr>\n",
       "    <tr>\n",
       "      <th>The Matrix</th>\n",
       "      <td>0.271624</td>\n",
       "      <td>0.396087</td>\n",
       "      <td>0.099323</td>\n",
       "      <td>1.000000</td>\n",
       "      <td>0.306018</td>\n",
       "      <td>0.401374</td>\n",
       "      <td>0.227783</td>\n",
       "    </tr>\n",
       "    <tr>\n",
       "      <th>Inception</th>\n",
       "      <td>0.376174</td>\n",
       "      <td>0.036636</td>\n",
       "      <td>0.320228</td>\n",
       "      <td>0.306018</td>\n",
       "      <td>1.000000</td>\n",
       "      <td>0.120781</td>\n",
       "      <td>0.342720</td>\n",
       "    </tr>\n",
       "    <tr>\n",
       "      <th>Pulp Fiction</th>\n",
       "      <td>0.146190</td>\n",
       "      <td>0.630443</td>\n",
       "      <td>0.386411</td>\n",
       "      <td>0.401374</td>\n",
       "      <td>0.120781</td>\n",
       "      <td>1.000000</td>\n",
       "      <td>0.000000</td>\n",
       "    </tr>\n",
       "    <tr>\n",
       "      <th>Forrest Gump</th>\n",
       "      <td>0.331856</td>\n",
       "      <td>0.174528</td>\n",
       "      <td>0.000000</td>\n",
       "      <td>0.227783</td>\n",
       "      <td>0.342720</td>\n",
       "      <td>0.000000</td>\n",
       "      <td>1.000000</td>\n",
       "    </tr>\n",
       "  </tbody>\n",
       "</table>\n",
       "</div>"
      ],
      "text/plain": [
       "               Star Wars  The Godfather   Titanic  The Matrix  Inception  \\\n",
       "Star Wars       1.000000       0.141899  0.358526    0.271624   0.376174   \n",
       "The Godfather   0.141899       1.000000  0.456607    0.396087   0.036636   \n",
       "Titanic         0.358526       0.456607  1.000000    0.099323   0.320228   \n",
       "The Matrix      0.271624       0.396087  0.099323    1.000000   0.306018   \n",
       "Inception       0.376174       0.036636  0.320228    0.306018   1.000000   \n",
       "Pulp Fiction    0.146190       0.630443  0.386411    0.401374   0.120781   \n",
       "Forrest Gump    0.331856       0.174528  0.000000    0.227783   0.342720   \n",
       "\n",
       "               Pulp Fiction  Forrest Gump  \n",
       "Star Wars          0.146190      0.331856  \n",
       "The Godfather      0.630443      0.174528  \n",
       "Titanic            0.386411      0.000000  \n",
       "The Matrix         0.401374      0.227783  \n",
       "Inception          0.120781      0.342720  \n",
       "Pulp Fiction       1.000000      0.000000  \n",
       "Forrest Gump       0.000000      1.000000  "
      ]
     },
     "execution_count": 24,
     "metadata": {},
     "output_type": "execute_result"
    }
   ],
   "source": [
    "cosine_sim = cosine_similarity(user_movie_matrix.T)\n",
    "data_cos = pd.DataFrame(cosine_sim, columns=movies, index=movies)\n",
    "data_cos"
   ]
  },
  {
   "cell_type": "markdown",
   "id": "transparent-replica",
   "metadata": {},
   "source": [
    "## User Interface"
   ]
  },
  {
   "cell_type": "code",
   "execution_count": 25,
   "id": "specific-intranet",
   "metadata": {},
   "outputs": [
    {
     "name": "stdout",
     "output_type": "stream",
     "text": [
      "Please enter your name: ALICE\n",
      "0.25\n",
      "               Inception\n",
      "The Godfather   0.045795\n",
      "Titanic         0.400285\n",
      "Pulp Fiction    0.150976\n",
      "Forrest Gump    0.428400\n",
      "0.4166666666666667\n",
      "               Inception  Star Wars\n",
      "The Godfather   0.045795   0.201024\n",
      "Titanic         0.400285   0.507912\n",
      "Pulp Fiction    0.150976   0.207102\n",
      "Forrest Gump    0.428400   0.470129\n",
      "0.3333333333333333\n",
      "               Inception  Star Wars  The Matrix\n",
      "The Godfather   0.045795   0.201024    0.528116\n",
      "Titanic         0.400285   0.507912    0.132430\n",
      "Pulp Fiction    0.150976   0.207102    0.535165\n",
      "Forrest Gump    0.428400   0.470129    0.303711\n",
      "[0.535164947944167, 0.5281162602549665, 0.5079124828886372, 0.4701292557316045, 0.4284001027886194, 0.4002851045277945, 0.30371085911584794, 0.2071021591087271, 0.2010240048193071, 0.15097564794065937, 0.13243017845116184, 0.04579522720488596]\n",
      "Recommended movies for ALICE\n",
      "['The Godfather', 'Titanic', 'Pulp Fiction']\n"
     ]
    }
   ],
   "source": [
    "def get_top_indices(df, n):\n",
    "    # Flatten the DataFrame and sort the values\n",
    "    flatten_values = df.values.flatten() \n",
    "    sorted_values = sorted(flatten_values, reverse=True)\n",
    "\n",
    "    # Get the unique indices of the n largest values\n",
    "    unique_indices = df[df.isin(sorted_values[:n] ).values].dropna().index.unique()\n",
    "    return unique_indices\n",
    "\n",
    "def recommend_movies(user):\n",
    "    movie_ratings = user_movie_matrix.loc[user]\n",
    "    watched_list = movie_ratings[movie_ratings > 0]\n",
    "    \n",
    "    mod_data_cos = data_cos.drop(watched_list.index, axis = 1)\n",
    "    \n",
    "    recc_list = []\n",
    "    for index, value in watched_list.items():\n",
    "        weight = value/watched_list.sum()\n",
    "\n",
    "        recc_list.append(mod_data_cos.loc[index]*(1+weight))\n",
    "        \n",
    "        final_df = pd.concat(recc_list, axis=1)\n",
    "        \n",
    "    return get_top_indices(final_df, 3)\n",
    "\n",
    "def main():\n",
    "    user_name = input(\"Please enter your name: \").upper()\n",
    "\n",
    "    # Check if the user exists in the data\n",
    "    if user_name not in user_movie_matrix.index:\n",
    "        print(\"User not found !!!\")\n",
    "        time.sleep(0.1)\n",
    "        print(\"Recommending popular movies.\")\n",
    "        time.sleep(1)\n",
    "        popular_movies = average_ratings.sort_values(by='Rating', ascending=False)['Movie']\n",
    "        recommendations = list(popular_movies.head(3))\n",
    "        print(f\"{recommendations}\")\n",
    "        \n",
    "    else :\n",
    "        recommendations = list(recommend_movies(user_name))\n",
    "        print(f\"Recommended movies for {user_name}\")\n",
    "        print(f\"{recommendations}\")\n",
    "        \n",
    "\n",
    "main()"
   ]
  },
  {
   "cell_type": "code",
   "execution_count": null,
   "id": "upset-robertson",
   "metadata": {},
   "outputs": [],
   "source": []
  },
  {
   "cell_type": "code",
   "execution_count": null,
   "id": "interim-negative",
   "metadata": {},
   "outputs": [],
   "source": []
  },
  {
   "cell_type": "code",
   "execution_count": null,
   "id": "transsexual-typing",
   "metadata": {},
   "outputs": [],
   "source": []
  },
  {
   "cell_type": "code",
   "execution_count": null,
   "id": "attempted-disability",
   "metadata": {},
   "outputs": [],
   "source": []
  },
  {
   "cell_type": "code",
   "execution_count": null,
   "id": "therapeutic-broadway",
   "metadata": {},
   "outputs": [],
   "source": []
  },
  {
   "cell_type": "code",
   "execution_count": null,
   "id": "twenty-remainder",
   "metadata": {},
   "outputs": [],
   "source": []
  },
  {
   "cell_type": "code",
   "execution_count": null,
   "id": "included-indicator",
   "metadata": {},
   "outputs": [],
   "source": []
  },
  {
   "cell_type": "code",
   "execution_count": null,
   "id": "revised-shelf",
   "metadata": {},
   "outputs": [],
   "source": []
  },
  {
   "cell_type": "code",
   "execution_count": null,
   "id": "computational-reply",
   "metadata": {},
   "outputs": [],
   "source": []
  },
  {
   "cell_type": "code",
   "execution_count": null,
   "id": "abroad-heating",
   "metadata": {},
   "outputs": [],
   "source": []
  }
 ],
 "metadata": {
  "kernelspec": {
   "display_name": "Python 3",
   "language": "python",
   "name": "python3"
  },
  "language_info": {
   "codemirror_mode": {
    "name": "ipython",
    "version": 3
   },
   "file_extension": ".py",
   "mimetype": "text/x-python",
   "name": "python",
   "nbconvert_exporter": "python",
   "pygments_lexer": "ipython3",
   "version": "3.8.10"
  }
 },
 "nbformat": 4,
 "nbformat_minor": 5
}
